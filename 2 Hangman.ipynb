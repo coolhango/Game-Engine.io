{
 "cells": [
  {
   "cell_type": "code",
   "execution_count": null,
   "id": "f28702cc-ee14-4253-955f-24d19af72ca6",
   "metadata": {},
   "outputs": [
    {
     "name": "stdout",
     "output_type": "stream",
     "text": [
      "Welcome to Hangman!\n",
      "\n",
      "Attempts left: 6\n",
      "_ _ _ _ _ \n"
     ]
    },
    {
     "name": "stdin",
     "output_type": "stream",
     "text": [
      "Guess a letter:  g\n"
     ]
    },
    {
     "name": "stdout",
     "output_type": "stream",
     "text": [
      "Incorrect guess!\n",
      "\n",
      "Attempts left: 5\n",
      "_ _ _ _ _ \n"
     ]
    },
    {
     "name": "stdin",
     "output_type": "stream",
     "text": [
      "Guess a letter:  e\n"
     ]
    },
    {
     "name": "stdout",
     "output_type": "stream",
     "text": [
      "\n",
      "Attempts left: 5\n",
      "_ e _ _ _ \n"
     ]
    }
   ],
   "source": [
    "# Last Updated: 14 April 2024, 5.59PM.\n",
    "# Copyright © 2024 Gedeon Koh All rights reserved.\n",
    "# No part of this publication may be reproduced, distributed, or transmitted in any form or by any means, including photocopying, recording, or other electronic or mechanical methods, without the prior written permission of the publisher, except in the case of brief quotations embodied in reviews and certain other non-commercial uses permitted by copyright law.\n",
    "# THE SOFTWARE IS PROVIDED “AS IS”, WITHOUT WARRANTY OF ANY KIND, EXPRESS OR IMPLIED, INCLUDING BUT NOT LIMITED TO THE WARRANTIES OF MERCHANTABILITY, FITNESS FOR A PARTICULAR PURPOSE AND NONINFRINGEMENT. IN NO EVENT SHALL THE AUTHOR OR COPYRIGHT HOLDER BE LIABLE FOR ANY CLAIM, DAMAGES OR OTHER LIABILITY, WHETHER IN AN ACTION OF CONTRACT, TORT OR OTHERWISE, ARISING FROM, OUT OF OR IN CONNECTION WITH THE SOFTWARE OR THE USE OR OTHER DEALINGS IN THE SOFTWARE.\n",
    "# Use of this program for pranks or any malicious activities is strictly prohibited. Any unauthorized use or dissemination of the results produced by this program is unethical and may result in legal consequences.\n",
    "# This code have been tested throughly. Please inform the operator or author if there is any mistake or error in the code.\n",
    "# Any damage, disciplinary actions or death from this material is not the publisher's or owner's fault.\n",
    "# Run and use this program this AT YOUR OWN RISK.\n",
    "# Version 0.1\n",
    "\n",
    "#Hangman\n",
    "import random\n",
    "\n",
    "def choose_word():\n",
    "    words = [\"apple\", \"banana\", \"orange\", \"grape\", \"kiwi\", \"pineapple\", \"strawberry\", \"blueberry\", \"watermelon\", \"peach\"]\n",
    "    return random.choice(words)\n",
    "\n",
    "def display_word(word, guessed_letters):\n",
    "    display = \"\"\n",
    "    for letter in word:\n",
    "        if letter in guessed_letters:\n",
    "            display += letter + \" \"\n",
    "        else:\n",
    "            display += \"_ \"\n",
    "    return display\n",
    "\n",
    "def hangman():\n",
    "    print(\"Welcome to Hangman!\")\n",
    "    word = choose_word()\n",
    "    guessed_letters = []\n",
    "    attempts = 6\n",
    "    \n",
    "    while attempts > 0:\n",
    "        print(\"\\nAttempts left:\", attempts)\n",
    "        print(display_word(word, guessed_letters))\n",
    "        guess = input(\"Guess a letter: \").lower()\n",
    "        \n",
    "        if guess in guessed_letters:\n",
    "            print(\"You already guessed that letter!\")\n",
    "        elif guess in word:\n",
    "            guessed_letters.append(guess)\n",
    "            if set(word) == set(guessed_letters):\n",
    "                print(\"\\nCongratulations! You guessed the word:\", word)\n",
    "                break\n",
    "        else:\n",
    "            attempts -= 1\n",
    "            print(\"Incorrect guess!\")\n",
    "            if attempts == 0:\n",
    "                print(\"\\nGame over! The word was:\", word)\n",
    "                break\n",
    "                \n",
    "    play_again = input(\"Do you want to play again? (yes/no): \").lower()\n",
    "    if play_again == \"yes\":\n",
    "        hangman()\n",
    "    else:\n",
    "        print(\"Thanks for playing!\")\n",
    "\n",
    "hangman()\n"
   ]
  }
 ],
 "metadata": {
  "kernelspec": {
   "display_name": "Python 3 (ipykernel)",
   "language": "python",
   "name": "python3"
  },
  "language_info": {
   "codemirror_mode": {
    "name": "ipython",
    "version": 3
   },
   "file_extension": ".py",
   "mimetype": "text/x-python",
   "name": "python",
   "nbconvert_exporter": "python",
   "pygments_lexer": "ipython3",
   "version": "3.12.2"
  }
 },
 "nbformat": 4,
 "nbformat_minor": 5
}
