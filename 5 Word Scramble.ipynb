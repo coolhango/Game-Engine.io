{
 "cells": [
  {
   "cell_type": "code",
   "execution_count": null,
   "id": "9824c279-af8f-453e-a1a2-64a1017b0d6f",
   "metadata": {},
   "outputs": [],
   "source": [
    "# Last Updated: 14 April 2024, 5.59PM.\n",
    "# Copyright © 2024 Gedeon Koh All rights reserved.\n",
    "# No part of this publication may be reproduced, distributed, or transmitted in any form or by any means, including photocopying, recording, or other electronic or mechanical methods, without the prior written permission of the publisher, except in the case of brief quotations embodied in reviews and certain other non-commercial uses permitted by copyright law.\n",
    "# THE SOFTWARE IS PROVIDED “AS IS”, WITHOUT WARRANTY OF ANY KIND, EXPRESS OR IMPLIED, INCLUDING BUT NOT LIMITED TO THE WARRANTIES OF MERCHANTABILITY, FITNESS FOR A PARTICULAR PURPOSE AND NONINFRINGEMENT. IN NO EVENT SHALL THE AUTHOR OR COPYRIGHT HOLDER BE LIABLE FOR ANY CLAIM, DAMAGES OR OTHER LIABILITY, WHETHER IN AN ACTION OF CONTRACT, TORT OR OTHERWISE, ARISING FROM, OUT OF OR IN CONNECTION WITH THE SOFTWARE OR THE USE OR OTHER DEALINGS IN THE SOFTWARE.\n",
    "# Use of this program for pranks or any malicious activities is strictly prohibited. Any unauthorized use or dissemination of the results produced by this program is unethical and may result in legal consequences.\n",
    "# This code have been tested throughly. Please inform the operator or author if there is any mistake or error in the code.\n",
    "# Any damage, disciplinary actions or death from this material is not the publisher's or owner's fault.\n",
    "# Run and use this program this AT YOUR OWN RISK.\n",
    "# Version 0.1\n",
    "\n",
    "#Word Scramble\n",
    "import random\n",
    "\n",
    "def choose_word():\n",
    "    words = [\"python\", \"banana\", \"apple\", \"orange\", \"computer\", \"keyboard\", \"mouse\"]\n",
    "    return random.choice(words)\n",
    "\n",
    "def scramble_word(word):\n",
    "    word_list = list(word)\n",
    "    random.shuffle(word_list)\n",
    "    return ''.join(word_list)\n",
    "\n",
    "def word_scramble_game():\n",
    "    print(\"Welcome to Word Scramble Game!\")\n",
    "    print(\"Unscramble the word to win.\")\n",
    "\n",
    "    word = choose_word()\n",
    "    scrambled_word = scramble_word(word)\n",
    "\n",
    "    print(\"Scrambled word:\", scrambled_word)\n",
    "\n",
    "    while True:\n",
    "        guess = input(\"Enter your guess: \").lower()\n",
    "\n",
    "        if guess == word:\n",
    "            print(\"Congratulations! You've unscrambled the word correctly!\")\n",
    "            break\n",
    "        else:\n",
    "            print(\"Incorrect. Try again.\")\n",
    "\n",
    "if __name__ == \"__main__\":\n",
    "    word_scramble_game()\n"
   ]
  }
 ],
 "metadata": {
  "kernelspec": {
   "display_name": "Python 3 (ipykernel)",
   "language": "python",
   "name": "python3"
  },
  "language_info": {
   "codemirror_mode": {
    "name": "ipython",
    "version": 3
   },
   "file_extension": ".py",
   "mimetype": "text/x-python",
   "name": "python",
   "nbconvert_exporter": "python",
   "pygments_lexer": "ipython3",
   "version": "3.12.2"
  }
 },
 "nbformat": 4,
 "nbformat_minor": 5
}
